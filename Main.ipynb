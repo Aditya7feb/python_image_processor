{
 "cells": [
  {
   "cell_type": "code",
   "execution_count": null,
   "metadata": {},
   "outputs": [],
   "source": [
    "#main program\n",
    "print('Image Editor')\n",
    "print('version 1')\n",
    "print('This is a Menu Driven Image Processor where you can edit and get info for your image')\n"
   ]
  },
  {
   "cell_type": "code",
   "execution_count": null,
   "metadata": {},
   "outputs": [],
   "source": [
    "\n",
    "from skimage.feature import Cascade\n",
    "from skimage import data, color\n",
    "import matplotlib.pyplot as plt\n",
    "from matplotlib.patches import Rectangle\n"
   ]
  },
  {
   "cell_type": "code",
   "execution_count": null,
   "metadata": {},
   "outputs": [],
   "source": [
    "\n",
    "path='/home/aditya/Desktop/GettyImages-723501919_156x130.jpg'\n",
    "img = plt.imread(path)\n",
    "plt.axis('off')\n",
    "plt.imshow(img)\n"
   ]
  },
  {
   "cell_type": "code",
   "execution_count": null,
   "metadata": {},
   "outputs": [],
   "source": [
    "#displaying menu\n",
    "print('list of availaible features for this image are:-\\n')\n",
    "print('1.Crop (c)\\t 2.Histogram (h)\\t 3.Face Detection (fd)\\n')\n",
    "print('4.Enhance Contrast (ct)\\t 5.Smoothen (s)\\t 6.Edge Detection (ed)\\n')\n",
    "print('7.Channel Seperation (cs)\\t 8.Rotate (r)\\n\\n')"
   ]
  },
  {
   "cell_type": "code",
   "execution_count": null,
   "metadata": {},
   "outputs": [],
   "source": [
    "print('Enter the number before the function to execute program:')\n",
    "option = int(input(\"\"))"
   ]
  },
  {
   "cell_type": "code",
   "execution_count": null,
   "metadata": {},
   "outputs": [],
   "source": []
  },
  {
   "cell_type": "code",
   "execution_count": null,
   "metadata": {},
   "outputs": [],
   "source": []
  },
  {
   "cell_type": "code",
   "execution_count": null,
   "metadata": {},
   "outputs": [],
   "source": [
    "def switch():\n",
    "    \n",
    "    \n",
    "\n",
    "    default = int()\n",
    "    def fd():\n",
    "        train_set = data.lbp_frontal_face_cascade_filename()\n",
    "        detector = Cascade(train_set)\n",
    "        detected = detector.detect_multi_scale(img=img, scale_factor = 1.2, step_ratio = 1, min_size = (10,10), max_size = (200,200))\n",
    "        print('Detected')\n",
    "\n",
    "        def show_detected_face(result,detected,title='Detected Faces'):\n",
    "            plt.imshow(result)\n",
    "            desc=plt.gca()\n",
    "            plt.set_cmap('gray')\n",
    "            plt.title(title)\n",
    "            plt.axis('off')\n",
    "            for rec in detected:\n",
    "                desc.add_patch(\n",
    "                    Rectangle(\n",
    "                        (rec['c'],rec['r']),\n",
    "                        rec['width'],\n",
    "                        rec['height'],\n",
    "                        Fill=False,color='g',linewidth=2)\n",
    "                        )\n",
    "            plt.show()\n",
    "\n",
    "                #calling the function\n",
    "        show_detected_face(img,detected)\n",
    "\n",
    "    \n",
    "    def hist():\n",
    "        grayscale = color.rgb2gray(img)\n",
    "        plt.hist(grayscale.ravel(), bins = 256)\n",
    "        plt.title('Light Intensity Histogram')\n",
    "        plt.show\n",
    "\n",
    "    dict = {\n",
    "            1 : 0,\n",
    "            2 : hist,\n",
    "            3 : fd,\n",
    "\n",
    "        }\n",
    "    dict.get(option,default)()\n",
    "switch()\n",
    "\n"
   ]
  },
  {
   "cell_type": "code",
   "execution_count": null,
   "metadata": {},
   "outputs": [],
   "source": []
  }
 ],
 "metadata": {
  "kernelspec": {
   "display_name": "Python 3",
   "language": "python",
   "name": "python3"
  },
  "language_info": {
   "codemirror_mode": {
    "name": "ipython",
    "version": 3
   },
   "file_extension": ".py",
   "mimetype": "text/x-python",
   "name": "python",
   "nbconvert_exporter": "python",
   "pygments_lexer": "ipython3",
   "version": "3.7.6-final"
  }
 },
 "nbformat": 4,
 "nbformat_minor": 4
}